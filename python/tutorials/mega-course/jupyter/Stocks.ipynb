{
 "cells": [
  {
   "cell_type": "code",
   "execution_count": 124,
   "metadata": {},
   "outputs": [],
   "source": [
    "import os\n",
    "from pandas_datareader import data\n",
    "import datetime as dt\n",
    "import pandas as pd\n",
    "from bokeh.plotting import figure, show, output_file\n",
    "from bokeh.embed import components as com\n",
    "from bokeh.resources import CDN\n",
    "\n",
    "os.environ[\"IEX_API_KEY\"] = \"pk_5141b46edbca4b5cb3fcbb39e996ce73\"\n",
    "width = 12*60*60*1000 # 12 hours in millis\n",
    "\n",
    "start_time = dt.datetime(2019,9,25)\n",
    "end_time = dt.datetime(2019,10,3)\n",
    "df = data.DataReader(name=\"ORCL\", data_source=\"iex\", start=start_time, end=end_time)\n",
    "\n",
    "def get_status(c,o):\n",
    "    if c > o:\n",
    "        return \"Increase\"\n",
    "    elif c < o:\n",
    "        return \"Decrease\"\n",
    "    else:\n",
    "        return \"Equal\"\n",
    "    \n",
    "df[\"status\"] = [get_status(c,o) for c, o in zip(df.close, df.open)]\n",
    "df[\"average\"] = (df.open + df.close)/2\n",
    "df[\"height\"] = abs(df.open - df.close)\n",
    "df[\"datetime\"] = pd.to_datetime(df.index)\n",
    "df = df.set_index('datetime')\n",
    "\n",
    "output_file(\"stock.html\")\n",
    "\n",
    "p = figure(x_axis_type=\"datetime\", width=1000, height=500, sizing_mode=\"scale_width\")\n",
    "p.title.text = \"Oracle\"\n",
    "p.title.text_color = \"red\"\n",
    "p.grid.grid_line_alpha = 0.5\n",
    "\n",
    "p.segment(df.index, df.high, df.index, df.low, color=\"black\")\n",
    "\n",
    "p.rect(df.index[df.status==\"Increase\"], df.average[df.status==\"Increase\"],\n",
    "       width, df.height[df.status==\"Increase\"], fill_color=\"#00ffff\", line_color=\"black\")\n",
    "\n",
    "p.rect(df.index[df.status==\"Decrease\"], df.average[df.status==\"Decrease\"],\n",
    "       width, df.height[df.status==\"Decrease\"], fill_color=\"#ff0080\", line_color=\"black\")\n",
    "\n",
    "p.rect(df.index[df.status==\"Equal\"], df.average[df.status==\"Equal\"],\n",
    "       width, df.height[df.status==\"Equal\"], fill_color=\"#808080\", line_color=\"black\")\n",
    "\n",
    "script, div = com(p)\n",
    "\n",
    "cdn_js = CDN.js_files\n",
    "# cdn_css = CDN.css_files # no longer needed\n",
    "\n",
    "show(p)"
   ]
  },
  {
   "cell_type": "code",
   "execution_count": 117,
   "metadata": {},
   "outputs": [
    {
     "data": {
      "text/plain": [
       "'https://cdn.pydata.org/bokeh/release/bokeh-1.3.4.min.js'"
      ]
     },
     "execution_count": 117,
     "metadata": {},
     "output_type": "execute_result"
    }
   ],
   "source": [
    "#df.index[df.status==\"Increase\"]\n",
    "#script, div = com(p)\n",
    "# cdn_js is an empty list; As of bokeh 1.3.4, css are no longer needed\n",
    "cdn_js[0]"
   ]
  }
 ],
 "metadata": {
  "kernelspec": {
   "display_name": "Python 3",
   "language": "python",
   "name": "python3"
  },
  "language_info": {
   "codemirror_mode": {
    "name": "ipython",
    "version": 3
   },
   "file_extension": ".py",
   "mimetype": "text/x-python",
   "name": "python",
   "nbconvert_exporter": "python",
   "pygments_lexer": "ipython3",
   "version": "3.7.4"
  }
 },
 "nbformat": 4,
 "nbformat_minor": 2
}
